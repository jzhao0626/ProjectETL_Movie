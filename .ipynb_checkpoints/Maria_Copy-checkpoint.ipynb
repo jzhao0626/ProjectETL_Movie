{
 "cells": [
  {
   "cell_type": "markdown",
   "metadata": {},
   "source": [
    "# Set up"
   ]
  },
  {
   "cell_type": "code",
   "execution_count": 1,
   "metadata": {},
   "outputs": [],
   "source": [
    "# Dependencies\n",
    "import pandas as pd\n",
    "import scipy.stats as st\n",
    "import matplotlib.pyplot as plt\n",
    "from matplotlib import cm\n",
    "import numpy as np\n",
    "from scipy.stats import linregress\n",
    "import datetime as dt \n",
    "# import seaborn as sns"
   ]
  },
  {
   "cell_type": "code",
   "execution_count": 2,
   "metadata": {},
   "outputs": [],
   "source": [
    "main_data = pd.read_csv(\"Resources/netflix_titles.csv\")\n",
    "rating_data = pd.read_csv(\"Resources/Netflix reelgood ratings.csv\")"
   ]
  },
  {
   "cell_type": "code",
   "execution_count": 3,
   "metadata": {
    "scrolled": false
   },
   "outputs": [
    {
     "data": {
      "text/html": [
       "<div>\n",
       "<style scoped>\n",
       "    .dataframe tbody tr th:only-of-type {\n",
       "        vertical-align: middle;\n",
       "    }\n",
       "\n",
       "    .dataframe tbody tr th {\n",
       "        vertical-align: top;\n",
       "    }\n",
       "\n",
       "    .dataframe thead th {\n",
       "        text-align: right;\n",
       "    }\n",
       "</style>\n",
       "<table border=\"1\" class=\"dataframe\">\n",
       "  <thead>\n",
       "    <tr style=\"text-align: right;\">\n",
       "      <th></th>\n",
       "      <th>show_id</th>\n",
       "      <th>type</th>\n",
       "      <th>title</th>\n",
       "      <th>country</th>\n",
       "      <th>date_added</th>\n",
       "      <th>release_year</th>\n",
       "      <th>rating</th>\n",
       "      <th>listed_in</th>\n",
       "    </tr>\n",
       "  </thead>\n",
       "  <tbody>\n",
       "    <tr>\n",
       "      <th>0</th>\n",
       "      <td>s1</td>\n",
       "      <td>TV Show</td>\n",
       "      <td>3%</td>\n",
       "      <td>Brazil</td>\n",
       "      <td>August 14, 2020</td>\n",
       "      <td>2020</td>\n",
       "      <td>TV-MA</td>\n",
       "      <td>International TV Shows, TV Dramas, TV Sci-Fi &amp;...</td>\n",
       "    </tr>\n",
       "    <tr>\n",
       "      <th>1</th>\n",
       "      <td>s2</td>\n",
       "      <td>Movie</td>\n",
       "      <td>7:19</td>\n",
       "      <td>Mexico</td>\n",
       "      <td>December 23, 2016</td>\n",
       "      <td>2016</td>\n",
       "      <td>TV-MA</td>\n",
       "      <td>Dramas, International Movies</td>\n",
       "    </tr>\n",
       "    <tr>\n",
       "      <th>2</th>\n",
       "      <td>s3</td>\n",
       "      <td>Movie</td>\n",
       "      <td>23:59</td>\n",
       "      <td>Singapore</td>\n",
       "      <td>December 20, 2018</td>\n",
       "      <td>2011</td>\n",
       "      <td>R</td>\n",
       "      <td>Horror Movies, International Movies</td>\n",
       "    </tr>\n",
       "    <tr>\n",
       "      <th>3</th>\n",
       "      <td>s4</td>\n",
       "      <td>Movie</td>\n",
       "      <td>9</td>\n",
       "      <td>United States</td>\n",
       "      <td>November 16, 2017</td>\n",
       "      <td>2009</td>\n",
       "      <td>PG-13</td>\n",
       "      <td>Action &amp; Adventure, Independent Movies, Sci-Fi...</td>\n",
       "    </tr>\n",
       "    <tr>\n",
       "      <th>4</th>\n",
       "      <td>s5</td>\n",
       "      <td>Movie</td>\n",
       "      <td>21</td>\n",
       "      <td>United States</td>\n",
       "      <td>January 1, 2020</td>\n",
       "      <td>2008</td>\n",
       "      <td>PG-13</td>\n",
       "      <td>Dramas</td>\n",
       "    </tr>\n",
       "    <tr>\n",
       "      <th>...</th>\n",
       "      <td>...</td>\n",
       "      <td>...</td>\n",
       "      <td>...</td>\n",
       "      <td>...</td>\n",
       "      <td>...</td>\n",
       "      <td>...</td>\n",
       "      <td>...</td>\n",
       "      <td>...</td>\n",
       "    </tr>\n",
       "    <tr>\n",
       "      <th>7782</th>\n",
       "      <td>s7783</td>\n",
       "      <td>Movie</td>\n",
       "      <td>Zozo</td>\n",
       "      <td>Sweden, Czech Republic, United Kingdom, Denmar...</td>\n",
       "      <td>October 19, 2020</td>\n",
       "      <td>2005</td>\n",
       "      <td>TV-MA</td>\n",
       "      <td>Dramas, International Movies</td>\n",
       "    </tr>\n",
       "    <tr>\n",
       "      <th>7783</th>\n",
       "      <td>s7784</td>\n",
       "      <td>Movie</td>\n",
       "      <td>Zubaan</td>\n",
       "      <td>India</td>\n",
       "      <td>March 2, 2019</td>\n",
       "      <td>2015</td>\n",
       "      <td>TV-14</td>\n",
       "      <td>Dramas, International Movies, Music &amp; Musicals</td>\n",
       "    </tr>\n",
       "    <tr>\n",
       "      <th>7784</th>\n",
       "      <td>s7785</td>\n",
       "      <td>Movie</td>\n",
       "      <td>Zulu Man in Japan</td>\n",
       "      <td>NaN</td>\n",
       "      <td>September 25, 2020</td>\n",
       "      <td>2019</td>\n",
       "      <td>TV-MA</td>\n",
       "      <td>Documentaries, International Movies, Music &amp; M...</td>\n",
       "    </tr>\n",
       "    <tr>\n",
       "      <th>7785</th>\n",
       "      <td>s7786</td>\n",
       "      <td>TV Show</td>\n",
       "      <td>Zumbo's Just Desserts</td>\n",
       "      <td>Australia</td>\n",
       "      <td>October 31, 2020</td>\n",
       "      <td>2019</td>\n",
       "      <td>TV-PG</td>\n",
       "      <td>International TV Shows, Reality TV</td>\n",
       "    </tr>\n",
       "    <tr>\n",
       "      <th>7786</th>\n",
       "      <td>s7787</td>\n",
       "      <td>Movie</td>\n",
       "      <td>ZZ TOP: THAT LITTLE OL' BAND FROM TEXAS</td>\n",
       "      <td>United Kingdom, Canada, United States</td>\n",
       "      <td>March 1, 2020</td>\n",
       "      <td>2019</td>\n",
       "      <td>TV-MA</td>\n",
       "      <td>Documentaries, Music &amp; Musicals</td>\n",
       "    </tr>\n",
       "  </tbody>\n",
       "</table>\n",
       "<p>7787 rows × 8 columns</p>\n",
       "</div>"
      ],
      "text/plain": [
       "     show_id     type                                    title  \\\n",
       "0         s1  TV Show                                       3%   \n",
       "1         s2    Movie                                     7:19   \n",
       "2         s3    Movie                                    23:59   \n",
       "3         s4    Movie                                        9   \n",
       "4         s5    Movie                                       21   \n",
       "...      ...      ...                                      ...   \n",
       "7782   s7783    Movie                                     Zozo   \n",
       "7783   s7784    Movie                                   Zubaan   \n",
       "7784   s7785    Movie                        Zulu Man in Japan   \n",
       "7785   s7786  TV Show                    Zumbo's Just Desserts   \n",
       "7786   s7787    Movie  ZZ TOP: THAT LITTLE OL' BAND FROM TEXAS   \n",
       "\n",
       "                                                country          date_added  \\\n",
       "0                                                Brazil     August 14, 2020   \n",
       "1                                                Mexico   December 23, 2016   \n",
       "2                                             Singapore   December 20, 2018   \n",
       "3                                         United States   November 16, 2017   \n",
       "4                                         United States     January 1, 2020   \n",
       "...                                                 ...                 ...   \n",
       "7782  Sweden, Czech Republic, United Kingdom, Denmar...    October 19, 2020   \n",
       "7783                                              India       March 2, 2019   \n",
       "7784                                                NaN  September 25, 2020   \n",
       "7785                                          Australia    October 31, 2020   \n",
       "7786              United Kingdom, Canada, United States       March 1, 2020   \n",
       "\n",
       "      release_year rating                                          listed_in  \n",
       "0             2020  TV-MA  International TV Shows, TV Dramas, TV Sci-Fi &...  \n",
       "1             2016  TV-MA                       Dramas, International Movies  \n",
       "2             2011      R                Horror Movies, International Movies  \n",
       "3             2009  PG-13  Action & Adventure, Independent Movies, Sci-Fi...  \n",
       "4             2008  PG-13                                             Dramas  \n",
       "...            ...    ...                                                ...  \n",
       "7782          2005  TV-MA                       Dramas, International Movies  \n",
       "7783          2015  TV-14     Dramas, International Movies, Music & Musicals  \n",
       "7784          2019  TV-MA  Documentaries, International Movies, Music & M...  \n",
       "7785          2019  TV-PG                 International TV Shows, Reality TV  \n",
       "7786          2019  TV-MA                    Documentaries, Music & Musicals  \n",
       "\n",
       "[7787 rows x 8 columns]"
      ]
     },
     "execution_count": 3,
     "metadata": {},
     "output_type": "execute_result"
    }
   ],
   "source": [
    "#Drop unnecessary columns\n",
    "cleaned_main_data = main_data.drop(['description', 'duration','director','cast'], axis = 1)\n",
    "cleaned_main_data"
   ]
  },
  {
   "cell_type": "code",
   "execution_count": 4,
   "metadata": {},
   "outputs": [
    {
     "data": {
      "text/html": [
       "<div>\n",
       "<style scoped>\n",
       "    .dataframe tbody tr th:only-of-type {\n",
       "        vertical-align: middle;\n",
       "    }\n",
       "\n",
       "    .dataframe tbody tr th {\n",
       "        vertical-align: top;\n",
       "    }\n",
       "\n",
       "    .dataframe thead th {\n",
       "        text-align: right;\n",
       "    }\n",
       "</style>\n",
       "<table border=\"1\" class=\"dataframe\">\n",
       "  <thead>\n",
       "    <tr style=\"text-align: right;\">\n",
       "      <th></th>\n",
       "      <th>title</th>\n",
       "      <th>imdb_rating</th>\n",
       "    </tr>\n",
       "  </thead>\n",
       "  <tbody>\n",
       "    <tr>\n",
       "      <th>0</th>\n",
       "      <td>Back to the Future</td>\n",
       "      <td>8.5</td>\n",
       "    </tr>\n",
       "    <tr>\n",
       "      <th>1</th>\n",
       "      <td>One Flew Over the Cuckoo's Nest</td>\n",
       "      <td>8.7</td>\n",
       "    </tr>\n",
       "    <tr>\n",
       "      <th>2</th>\n",
       "      <td>Spider-Man: Into the Spider-Verse</td>\n",
       "      <td>8.4</td>\n",
       "    </tr>\n",
       "    <tr>\n",
       "      <th>3</th>\n",
       "      <td>Django Unchained</td>\n",
       "      <td>8.4</td>\n",
       "    </tr>\n",
       "    <tr>\n",
       "      <th>4</th>\n",
       "      <td>Eternal Sunshine of the Spotless Mind</td>\n",
       "      <td>8.3</td>\n",
       "    </tr>\n",
       "    <tr>\n",
       "      <th>...</th>\n",
       "      <td>...</td>\n",
       "      <td>...</td>\n",
       "    </tr>\n",
       "    <tr>\n",
       "      <th>1195</th>\n",
       "      <td>I Am Not an Easy Man</td>\n",
       "      <td>6.3</td>\n",
       "    </tr>\n",
       "    <tr>\n",
       "      <th>1196</th>\n",
       "      <td>Radio Rebel</td>\n",
       "      <td>5.9</td>\n",
       "    </tr>\n",
       "    <tr>\n",
       "      <th>1197</th>\n",
       "      <td>Umrika</td>\n",
       "      <td>6.6</td>\n",
       "    </tr>\n",
       "    <tr>\n",
       "      <th>1198</th>\n",
       "      <td>Semana Santa</td>\n",
       "      <td>6.0</td>\n",
       "    </tr>\n",
       "    <tr>\n",
       "      <th>1199</th>\n",
       "      <td>Raajneeti</td>\n",
       "      <td>7.1</td>\n",
       "    </tr>\n",
       "  </tbody>\n",
       "</table>\n",
       "<p>1200 rows × 2 columns</p>\n",
       "</div>"
      ],
      "text/plain": [
       "                                      title  imdb_rating\n",
       "0                        Back to the Future          8.5\n",
       "1           One Flew Over the Cuckoo's Nest          8.7\n",
       "2         Spider-Man: Into the Spider-Verse          8.4\n",
       "3                          Django Unchained          8.4\n",
       "4     Eternal Sunshine of the Spotless Mind          8.3\n",
       "...                                     ...          ...\n",
       "1195                   I Am Not an Easy Man          6.3\n",
       "1196                            Radio Rebel          5.9\n",
       "1197                                 Umrika          6.6\n",
       "1198                           Semana Santa          6.0\n",
       "1199                              Raajneeti          7.1\n",
       "\n",
       "[1200 rows x 2 columns]"
      ]
     },
     "execution_count": 4,
     "metadata": {},
     "output_type": "execute_result"
    }
   ],
   "source": [
    "cleaned_rating_data = rating_data[[\"movie\", \"imdb_rating\"]].dropna()\n",
    "cleaned_rating_data = cleaned_rating_data.rename(columns={'movie': 'title'})\n",
    "cleaned_rating_data"
   ]
  },
  {
   "cell_type": "code",
   "execution_count": 5,
   "metadata": {},
   "outputs": [
    {
     "data": {
      "text/html": [
       "<div>\n",
       "<style scoped>\n",
       "    .dataframe tbody tr th:only-of-type {\n",
       "        vertical-align: middle;\n",
       "    }\n",
       "\n",
       "    .dataframe tbody tr th {\n",
       "        vertical-align: top;\n",
       "    }\n",
       "\n",
       "    .dataframe thead th {\n",
       "        text-align: right;\n",
       "    }\n",
       "</style>\n",
       "<table border=\"1\" class=\"dataframe\">\n",
       "  <thead>\n",
       "    <tr style=\"text-align: right;\">\n",
       "      <th></th>\n",
       "      <th>title</th>\n",
       "      <th>imdb_rating</th>\n",
       "      <th>show_id</th>\n",
       "      <th>type</th>\n",
       "      <th>country</th>\n",
       "      <th>date_added</th>\n",
       "      <th>release_year</th>\n",
       "      <th>rating</th>\n",
       "      <th>listed_in</th>\n",
       "    </tr>\n",
       "  </thead>\n",
       "  <tbody>\n",
       "    <tr>\n",
       "      <th>0</th>\n",
       "      <td>Spider-Man: Into the Spider-Verse</td>\n",
       "      <td>8.4</td>\n",
       "      <td>s5755</td>\n",
       "      <td>Movie</td>\n",
       "      <td>United States</td>\n",
       "      <td>June 26, 2019</td>\n",
       "      <td>2018</td>\n",
       "      <td>PG</td>\n",
       "      <td>Action &amp; Adventure, Comedies</td>\n",
       "    </tr>\n",
       "    <tr>\n",
       "      <th>1</th>\n",
       "      <td>Django Unchained</td>\n",
       "      <td>8.4</td>\n",
       "      <td>s1788</td>\n",
       "      <td>Movie</td>\n",
       "      <td>United States</td>\n",
       "      <td>April 25, 2020</td>\n",
       "      <td>2012</td>\n",
       "      <td>R</td>\n",
       "      <td>Action &amp; Adventure, Dramas</td>\n",
       "    </tr>\n",
       "    <tr>\n",
       "      <th>2</th>\n",
       "      <td>Taxi Driver</td>\n",
       "      <td>8.3</td>\n",
       "      <td>s5995</td>\n",
       "      <td>Movie</td>\n",
       "      <td>United States</td>\n",
       "      <td>April 1, 2020</td>\n",
       "      <td>1976</td>\n",
       "      <td>R</td>\n",
       "      <td>Classic Movies, Dramas, Thrillers</td>\n",
       "    </tr>\n",
       "    <tr>\n",
       "      <th>3</th>\n",
       "      <td>Pan's Labyrinth</td>\n",
       "      <td>8.2</td>\n",
       "      <td>s4750</td>\n",
       "      <td>Movie</td>\n",
       "      <td>Mexico, Spain</td>\n",
       "      <td>January 1, 2020</td>\n",
       "      <td>2006</td>\n",
       "      <td>R</td>\n",
       "      <td>Dramas, International Movies, Sci-Fi &amp; Fantasy</td>\n",
       "    </tr>\n",
       "    <tr>\n",
       "      <th>4</th>\n",
       "      <td>Spotlight</td>\n",
       "      <td>8.1</td>\n",
       "      <td>s5770</td>\n",
       "      <td>Movie</td>\n",
       "      <td>United States</td>\n",
       "      <td>July 22, 2020</td>\n",
       "      <td>2015</td>\n",
       "      <td>R</td>\n",
       "      <td>Dramas, Independent Movies</td>\n",
       "    </tr>\n",
       "    <tr>\n",
       "      <th>...</th>\n",
       "      <td>...</td>\n",
       "      <td>...</td>\n",
       "      <td>...</td>\n",
       "      <td>...</td>\n",
       "      <td>...</td>\n",
       "      <td>...</td>\n",
       "      <td>...</td>\n",
       "      <td>...</td>\n",
       "      <td>...</td>\n",
       "    </tr>\n",
       "    <tr>\n",
       "      <th>994</th>\n",
       "      <td>Seal Team Six: The Raid on Osama Bin Laden</td>\n",
       "      <td>5.7</td>\n",
       "      <td>s5448</td>\n",
       "      <td>Movie</td>\n",
       "      <td>United States</td>\n",
       "      <td>January 1, 2020</td>\n",
       "      <td>2012</td>\n",
       "      <td>TV-MA</td>\n",
       "      <td>Action &amp; Adventure</td>\n",
       "    </tr>\n",
       "    <tr>\n",
       "      <th>995</th>\n",
       "      <td>Radio Rebel</td>\n",
       "      <td>5.9</td>\n",
       "      <td>s5058</td>\n",
       "      <td>Movie</td>\n",
       "      <td>United States</td>\n",
       "      <td>March 1, 2019</td>\n",
       "      <td>2012</td>\n",
       "      <td>TV-G</td>\n",
       "      <td>Children &amp; Family Movies, Comedies</td>\n",
       "    </tr>\n",
       "    <tr>\n",
       "      <th>996</th>\n",
       "      <td>Umrika</td>\n",
       "      <td>6.6</td>\n",
       "      <td>s7311</td>\n",
       "      <td>Movie</td>\n",
       "      <td>India</td>\n",
       "      <td>October 1, 2016</td>\n",
       "      <td>2015</td>\n",
       "      <td>TV-MA</td>\n",
       "      <td>Dramas, Independent Movies, International Movies</td>\n",
       "    </tr>\n",
       "    <tr>\n",
       "      <th>997</th>\n",
       "      <td>Semana Santa</td>\n",
       "      <td>6.0</td>\n",
       "      <td>s5491</td>\n",
       "      <td>Movie</td>\n",
       "      <td>Mexico</td>\n",
       "      <td>January 31, 2017</td>\n",
       "      <td>2015</td>\n",
       "      <td>TV-MA</td>\n",
       "      <td>Dramas, International Movies</td>\n",
       "    </tr>\n",
       "    <tr>\n",
       "      <th>998</th>\n",
       "      <td>Raajneeti</td>\n",
       "      <td>7.1</td>\n",
       "      <td>s5048</td>\n",
       "      <td>Movie</td>\n",
       "      <td>India</td>\n",
       "      <td>August 2, 2018</td>\n",
       "      <td>2010</td>\n",
       "      <td>TV-14</td>\n",
       "      <td>Dramas, International Movies, Thrillers</td>\n",
       "    </tr>\n",
       "  </tbody>\n",
       "</table>\n",
       "<p>999 rows × 9 columns</p>\n",
       "</div>"
      ],
      "text/plain": [
       "                                          title  imdb_rating show_id   type  \\\n",
       "0             Spider-Man: Into the Spider-Verse          8.4   s5755  Movie   \n",
       "1                              Django Unchained          8.4   s1788  Movie   \n",
       "2                                   Taxi Driver          8.3   s5995  Movie   \n",
       "3                               Pan's Labyrinth          8.2   s4750  Movie   \n",
       "4                                     Spotlight          8.1   s5770  Movie   \n",
       "..                                          ...          ...     ...    ...   \n",
       "994  Seal Team Six: The Raid on Osama Bin Laden          5.7   s5448  Movie   \n",
       "995                                 Radio Rebel          5.9   s5058  Movie   \n",
       "996                                      Umrika          6.6   s7311  Movie   \n",
       "997                                Semana Santa          6.0   s5491  Movie   \n",
       "998                                   Raajneeti          7.1   s5048  Movie   \n",
       "\n",
       "           country        date_added  release_year rating  \\\n",
       "0    United States     June 26, 2019          2018     PG   \n",
       "1    United States    April 25, 2020          2012      R   \n",
       "2    United States     April 1, 2020          1976      R   \n",
       "3    Mexico, Spain   January 1, 2020          2006      R   \n",
       "4    United States     July 22, 2020          2015      R   \n",
       "..             ...               ...           ...    ...   \n",
       "994  United States   January 1, 2020          2012  TV-MA   \n",
       "995  United States     March 1, 2019          2012   TV-G   \n",
       "996          India   October 1, 2016          2015  TV-MA   \n",
       "997         Mexico  January 31, 2017          2015  TV-MA   \n",
       "998          India    August 2, 2018          2010  TV-14   \n",
       "\n",
       "                                            listed_in  \n",
       "0                        Action & Adventure, Comedies  \n",
       "1                          Action & Adventure, Dramas  \n",
       "2                   Classic Movies, Dramas, Thrillers  \n",
       "3      Dramas, International Movies, Sci-Fi & Fantasy  \n",
       "4                          Dramas, Independent Movies  \n",
       "..                                                ...  \n",
       "994                                Action & Adventure  \n",
       "995                Children & Family Movies, Comedies  \n",
       "996  Dramas, Independent Movies, International Movies  \n",
       "997                      Dramas, International Movies  \n",
       "998           Dramas, International Movies, Thrillers  \n",
       "\n",
       "[999 rows x 9 columns]"
      ]
     },
     "execution_count": 5,
     "metadata": {},
     "output_type": "execute_result"
    }
   ],
   "source": [
    "merged_df = pd.merge(cleaned_rating_data, cleaned_main_data, on='title')\n",
    "merged_df"
   ]
  },
  {
   "cell_type": "markdown",
   "metadata": {},
   "source": [
    "# Country"
   ]
  },
  {
   "cell_type": "code",
   "execution_count": 6,
   "metadata": {},
   "outputs": [
    {
     "data": {
      "image/png": "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\n",
      "text/plain": [
       "<Figure size 432x288 with 1 Axes>"
      ]
     },
     "metadata": {
      "needs_background": "light"
     },
     "output_type": "display_data"
    }
   ],
   "source": [
    "# JUST LEAVE IT\n",
    "# Pull out the list of genres\n",
    "country_index_list = merged_df['country'].value_counts().index.tolist()\n",
    "\n",
    "# Pull out the value of genres\n",
    "country_value_list = merged_df['country'].value_counts().tolist()\n",
    "\n",
    "plt.bar(country_index_list[0:10], country_value_list[0:10])\n",
    "plt.xticks(rotation = 90)\n",
    "plt.show()"
   ]
  },
  {
   "cell_type": "code",
   "execution_count": 7,
   "metadata": {
    "scrolled": false
   },
   "outputs": [
    {
     "data": {
      "image/png": "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\n",
      "text/plain": [
       "<Figure size 1152x720 with 1 Axes>"
      ]
     },
     "metadata": {
      "needs_background": "light"
     },
     "output_type": "display_data"
    }
   ],
   "source": [
    "# OPTION FIRST\n",
    "\n",
    "# Pull out the list of genres\n",
    "country_index_list = merged_df['country'].value_counts().index.tolist()\n",
    "\n",
    "# Pull out the value of genres\n",
    "country_value_list = merged_df['country'].value_counts().tolist()\n",
    "\n",
    "counter = 0\n",
    "country_dict = {}\n",
    "for countries in country_index_list:\n",
    "    country = countries.split(\",\")[0]\n",
    "    if country not in country_dict.keys():\n",
    "        country_dict[country] = 0\n",
    "    country_dict[country] += 1\n",
    "    \n",
    "key = list(country_dict.keys())\n",
    "value = list(country_dict.values())\n",
    "df_dict = {'countries': key,\n",
    "       'values': value}\n",
    "df_dict\n",
    "\n",
    "# TESTING\n",
    "# total = 0\n",
    "# for (key, value) in genres_dict.items():\n",
    "#     total += value\n",
    "# total\n",
    "\n",
    "countries_df = pd.DataFrame(df_dict)\n",
    "renamed_countries_df = countries_df.set_index('countries')\n",
    "sorted_countries_df = renamed_countries_df.sort_values(by='values', ascending=False)\n",
    "top_countries_df = sorted_countries_df.loc[sorted_countries_df['values'] > 5]\n",
    "top_countries_df.plot(kind='bar', figsize=(16,10), xlabel = 'Country', ylabel='Number of Movie & TV Show Filmed', legend=None)\n",
    "plt.title(\"Number of Movie & TV Show Filmed Per Country\")\n",
    "\n",
    "plt.show()"
   ]
  },
  {
   "cell_type": "markdown",
   "metadata": {},
   "source": [
    "# Movies & TV Shows"
   ]
  },
  {
   "cell_type": "code",
   "execution_count": 14,
   "metadata": {},
   "outputs": [
    {
     "data": {
      "text/plain": [
       "988"
      ]
     },
     "execution_count": 14,
     "metadata": {},
     "output_type": "execute_result"
    }
   ],
   "source": [
    "movie_df = merged_df.loc[merged_df['type'] == 'Movie']\n",
    "tvshow_df = merged_df.loc[merged_df['type'] == 'TV Show']"
   ]
  },
  {
   "cell_type": "markdown",
   "metadata": {},
   "source": [
    "## Movies Genres"
   ]
  },
  {
   "cell_type": "code",
   "execution_count": 9,
   "metadata": {},
   "outputs": [
    {
     "data": {
      "image/png": "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\n",
      "text/plain": [
       "<Figure size 432x288 with 1 Axes>"
      ]
     },
     "metadata": {
      "needs_background": "light"
     },
     "output_type": "display_data"
    }
   ],
   "source": [
    "# LEAVE IT\n",
    "# OPTION TOTAL\n",
    "\n",
    "# Pull out the list of genres\n",
    "movie_genres_index_list = movie_df['listed_in'].value_counts().index.tolist()\n",
    "\n",
    "# Pull out the value of genres\n",
    "movie_genres_value_list = movie_df['listed_in'].value_counts().tolist()\n",
    "\n",
    "plt.barh(movie_genres_index_list[10:0:-1], movie_genres_value_list[10:0:-1])\n",
    "plt.xticks(rotation = 0)\n",
    "plt.show()"
   ]
  },
  {
   "cell_type": "code",
   "execution_count": 10,
   "metadata": {
    "scrolled": true
   },
   "outputs": [
    {
     "data": {
      "image/png": "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\n",
      "text/plain": [
       "<Figure size 432x288 with 1 Axes>"
      ]
     },
     "metadata": {
      "needs_background": "light"
     },
     "output_type": "display_data"
    }
   ],
   "source": [
    "# OPTION FIRST\n",
    "\n",
    "# Pull out the list of genres\n",
    "movie_genres_index_list = movie_df['listed_in'].value_counts().index.tolist()\n",
    "\n",
    "# Pull out the value of genres\n",
    "movie_genres_value_list = movie_df['listed_in'].value_counts().tolist()\n",
    "\n",
    "counter = 0\n",
    "genres_dict = {}\n",
    "for genres in movie_genres_index_list:\n",
    "    genre = genres.split(\",\")[0]\n",
    "    if genre not in genres_dict.keys():\n",
    "        genres_dict[genre] = 0\n",
    "    genres_dict[genre] += 1\n",
    "    counter += 1\n",
    "# genres_dict\n",
    "# for (key, value) in genres_dict.items():\n",
    "#     genres_dict[key] = [value]\n",
    "    \n",
    "key = list(genres_dict.keys())\n",
    "value = list(genres_dict.values())\n",
    "df_dict = {'genres': key,\n",
    "       'values': value}\n",
    "df_dict\n",
    "\n",
    "# TESTING\n",
    "# total = 0\n",
    "# for (key, value) in genres_dict.items():\n",
    "#     total += value\n",
    "# total\n",
    "\n",
    "genres_df = pd.DataFrame(df_dict)\n",
    "renamed_genres_df = genres_df.set_index('genres')\n",
    "sorted_genres_df = renamed_genres_df.sort_values(by='values')\n",
    "sorted_genres_df.plot(kind='barh')\n",
    "plt.show()"
   ]
  },
  {
   "cell_type": "code",
   "execution_count": 11,
   "metadata": {},
   "outputs": [
    {
     "data": {
      "image/png": "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\n",
      "text/plain": [
       "<Figure size 432x288 with 1 Axes>"
      ]
     },
     "metadata": {
      "needs_background": "light"
     },
     "output_type": "display_data"
    }
   ],
   "source": [
    "# LEAVE IT\n",
    "# OPTION SPLIT\n",
    "\n",
    "# Pull out the list of genres\n",
    "movie_genres_index_list = movie_df['listed_in'].value_counts().index.tolist()\n",
    "\n",
    "# Pull out the value of genres\n",
    "movie_genres_value_list = movie_df['listed_in'].value_counts().tolist()\n",
    "\n",
    "\n",
    "# \n",
    "counter = 0\n",
    "genres_dict = {}\n",
    "\n",
    "for genres_row in movie_genres_index_list:\n",
    "    genres = genres_row.split(\", \")\n",
    "\n",
    "    for genre in genres:\n",
    "        if genre not in genres_dict.keys():\n",
    "            genres_dict[genre] = 0\n",
    "        genres_dict[genre] += 1\n",
    "    \n",
    "    \n",
    "\n",
    "key = list(genres_dict.keys())\n",
    "value = list(genres_dict.values())\n",
    "df_dict = {'genres': key,\n",
    "       'values': value}\n",
    "\n",
    "total = 0\n",
    "for (key, value) in genres_dict.items():\n",
    "    total += value\n",
    "total\n",
    "# counter\n",
    "\n",
    "genres_df = pd.DataFrame(df_dict)\n",
    "renamed_genres_df = genres_df.set_index('genres')\n",
    "sorted_genres_df = renamed_genres_df.sort_values(by='values')\n",
    "sorted_genres_df.plot(kind='barh')\n",
    "plt.show()"
   ]
  },
  {
   "cell_type": "markdown",
   "metadata": {},
   "source": [
    "## TV Shows Genres"
   ]
  },
  {
   "cell_type": "code",
   "execution_count": 12,
   "metadata": {},
   "outputs": [
    {
     "data": {
      "image/png": "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\n",
      "text/plain": [
       "<Figure size 432x288 with 1 Axes>"
      ]
     },
     "metadata": {
      "needs_background": "light"
     },
     "output_type": "display_data"
    }
   ],
   "source": [
    "# OPTION FIRST\n",
    "\n",
    "# Pull out the list of genres\n",
    "tvshow_genres_index_list = tvshow_df['listed_in'].value_counts().index.tolist()\n",
    "\n",
    "# Pull out the value of genres\n",
    "tvshow_genres_value_list = tvshow_df['listed_in'].value_counts().tolist()\n",
    "\n",
    "\n",
    "\n",
    "genres_dict = {}\n",
    "for genres in tvshow_genres_index_list:\n",
    "    genre = genres.split(\",\")[0]\n",
    "    if genre not in genres_dict.keys():\n",
    "        genres_dict[genre] = 0\n",
    "    genres_dict[genre] += 1\n",
    "# genres_dict\n",
    "# for (key, value) in genres_dict.items():\n",
    "#     genres_dict[key] = [value]\n",
    "    \n",
    "key = list(genres_dict.keys())\n",
    "value = list(genres_dict.values())\n",
    "df_dict = {'genres': key,\n",
    "       'values': value}\n",
    "df_dict\n",
    "\n",
    "# # TESTING\n",
    "# total = 0\n",
    "# for (key, value) in genres_dict.items():\n",
    "#     total += value\n",
    "# total\n",
    "\n",
    "genres_df = pd.DataFrame(df_dict)\n",
    "renamed_genres_df = genres_df.set_index('genres')\n",
    "sorted_genres_df = renamed_genres_df.sort_values(by='values')\n",
    "sorted_genres_df.plot(kind='barh')\n",
    "plt.show()"
   ]
  },
  {
   "cell_type": "code",
   "execution_count": 13,
   "metadata": {
    "scrolled": true
   },
   "outputs": [
    {
     "ename": "NameError",
     "evalue": "name 'main_data_cleaned' is not defined",
     "output_type": "error",
     "traceback": [
      "\u001b[1;31m---------------------------------------------------------------------------\u001b[0m",
      "\u001b[1;31mNameError\u001b[0m                                 Traceback (most recent call last)",
      "\u001b[1;32m<ipython-input-13-738adc7d5be1>\u001b[0m in \u001b[0;36m<module>\u001b[1;34m\u001b[0m\n\u001b[0;32m      1\u001b[0m \u001b[1;31m# LEAVE IT\u001b[0m\u001b[1;33m\u001b[0m\u001b[1;33m\u001b[0m\u001b[1;33m\u001b[0m\u001b[0m\n\u001b[0;32m      2\u001b[0m \u001b[1;31m# Extract only year from date_added\u001b[0m\u001b[1;33m\u001b[0m\u001b[1;33m\u001b[0m\u001b[1;33m\u001b[0m\u001b[0m\n\u001b[1;32m----> 3\u001b[1;33m \u001b[0mmain_data_cleaned\u001b[0m\u001b[1;33m[\u001b[0m\u001b[1;34m\"added_year\"\u001b[0m\u001b[1;33m]\u001b[0m\u001b[1;33m=\u001b[0m \u001b[0mmain_data_cleaned\u001b[0m\u001b[1;33m[\u001b[0m\u001b[1;34m\"date_added\"\u001b[0m\u001b[1;33m]\u001b[0m\u001b[1;33m.\u001b[0m\u001b[0mstr\u001b[0m\u001b[1;33m.\u001b[0m\u001b[0msplit\u001b[0m\u001b[1;33m(\u001b[0m\u001b[1;34m\",\"\u001b[0m\u001b[1;33m)\u001b[0m\u001b[1;33m.\u001b[0m\u001b[0mstr\u001b[0m\u001b[1;33m[\u001b[0m\u001b[1;36m1\u001b[0m\u001b[1;33m]\u001b[0m\u001b[1;33m\u001b[0m\u001b[1;33m\u001b[0m\u001b[0m\n\u001b[0m\u001b[0;32m      4\u001b[0m \u001b[0mmain_data_cleaned\u001b[0m\u001b[1;33m\u001b[0m\u001b[1;33m\u001b[0m\u001b[0m\n\u001b[0;32m      5\u001b[0m \u001b[1;33m\u001b[0m\u001b[0m\n",
      "\u001b[1;31mNameError\u001b[0m: name 'main_data_cleaned' is not defined"
     ]
    }
   ],
   "source": [
    "# LEAVE IT\n",
    "# Extract only year from date_added \n",
    "main_data_cleaned[\"added_year\"]= main_data_cleaned[\"date_added\"].str.split(\",\").str[1]\n",
    "main_data_cleaned\n",
    "\n",
    "# df['year'] =drop_columns_main_data['date_added'].dt.year\n",
    "# df['V'] = df['V'].str.split('-').str[0]\n",
    "\n",
    "main_data_cleaned['listed_in'].value_counts()[main_data_cleaned['listed_in'].value_counts() != 1]"
   ]
  },
  {
   "cell_type": "code",
   "execution_count": null,
   "metadata": {
    "scrolled": true
   },
   "outputs": [],
   "source": [
    "# LEAVE IT\n",
    "main_data_cleaned['country'].value_counts()"
   ]
  }
 ],
 "metadata": {
  "kernelspec": {
   "display_name": "Python 3",
   "language": "python",
   "name": "python3"
  },
  "language_info": {
   "codemirror_mode": {
    "name": "ipython",
    "version": 3
   },
   "file_extension": ".py",
   "mimetype": "text/x-python",
   "name": "python",
   "nbconvert_exporter": "python",
   "pygments_lexer": "ipython3",

  }
 },
 "nbformat": 4,
 "nbformat_minor": 4
}
